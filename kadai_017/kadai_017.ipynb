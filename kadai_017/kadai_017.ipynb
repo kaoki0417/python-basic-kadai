{
  "nbformat": 4,
  "nbformat_minor": 0,
  "metadata": {
    "colab": {
      "provenance": [],
      "authorship_tag": "ABX9TyMqMpI8N7hXDNab4LnP+c79",
      "include_colab_link": true
    },
    "kernelspec": {
      "name": "python3",
      "display_name": "Python 3"
    },
    "language_info": {
      "name": "python"
    }
  },
  "cells": [
    {
      "cell_type": "markdown",
      "metadata": {
        "id": "view-in-github",
        "colab_type": "text"
      },
      "source": [
        "<a href=\"https://colab.research.google.com/github/kaoki0417/python-basic-kadai/blob/main/kadai_017/kadai_017.ipynb\" target=\"_parent\"><img src=\"https://colab.research.google.com/assets/colab-badge.svg\" alt=\"Open In Colab\"/></a>"
      ]
    },
    {
      "cell_type": "code",
      "source": [
        "class Human:\n",
        "  def __init__(self, name, age):\n",
        "    self.name = name\n",
        "    self.age = age\n",
        "\n",
        "  def check_adult(self):\n",
        "    if self.age >= 20:\n",
        "      print(f'{self.name}は大人です。')\n",
        "    else:\n",
        "      print(f'{self.name}は大人ではありません。')\n",
        "\n",
        "human1 = Human('侍太郎', 36)\n",
        "human2 = Human('侍一郎', 20)\n",
        "human3 = Human('侍二郎', 15)\n",
        "\n",
        "list = [human1, human2, human3]\n",
        "\n",
        "for human in list:\n",
        "  human.check_adult()"
      ],
      "metadata": {
        "id": "llba_ue4gnNQ"
      },
      "execution_count": null,
      "outputs": []
    }
  ]
}