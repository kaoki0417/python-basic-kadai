{
  "nbformat": 4,
  "nbformat_minor": 0,
  "metadata": {
    "colab": {
      "provenance": [],
      "authorship_tag": "ABX9TyPup+apTro7xJ3wczIP7+ct",
      "include_colab_link": true
    },
    "kernelspec": {
      "name": "python3",
      "display_name": "Python 3"
    },
    "language_info": {
      "name": "python"
    }
  },
  "cells": [
    {
      "cell_type": "markdown",
      "metadata": {
        "id": "view-in-github",
        "colab_type": "text"
      },
      "source": [
        "<a href=\"https://colab.research.google.com/github/kaoki0417/python-basic-kadai/blob/main/kadai005/kadai_005.ipynb\" target=\"_parent\"><img src=\"https://colab.research.google.com/assets/colab-badge.svg\" alt=\"Open In Colab\"/></a>"
      ]
    },
    {
      "cell_type": "code",
      "source": [
        "user_name = \"侍太郎\"\n",
        "print(user_name)"
      ],
      "metadata": {
        "colab": {
          "base_uri": "https://localhost:8080/"
        },
        "id": "0ucjHhEulCx9",
        "outputId": "9d07d415-2f68-4db0-ac73-46606a645855"
      },
      "execution_count": null,
      "outputs": [
        {
          "output_type": "stream",
          "name": "stdout",
          "text": [
            "侍太郎\n"
          ]
        }
      ]
    },
    {
      "cell_type": "code",
      "source": [
        "user_name = \"侍太郎\"\n",
        "print(user_name)\n",
        "\n",
        "user_name = \"侍花子\"\n",
        "print(user_name)"
      ],
      "metadata": {
        "colab": {
          "base_uri": "https://localhost:8080/"
        },
        "id": "BhL9WtURlLAW",
        "outputId": "bba0109c-ace4-45e0-967b-2f5a66776871"
      },
      "execution_count": null,
      "outputs": [
        {
          "output_type": "stream",
          "name": "stdout",
          "text": [
            "侍太郎\n",
            "侍花子\n"
          ]
        }
      ]
    },
    {
      "cell_type": "code",
      "source": [
        "upper_side = 10\n",
        "lower_side = 20\n",
        "height = 5\n",
        "\n",
        "trapezoid_area = (upper_side + lower_side) * height / 2\n",
        "\n",
        "print(str(trapezoid_area) + 'cm²')"
      ],
      "metadata": {
        "id": "GbWKoqahlgWu"
      },
      "execution_count": null,
      "outputs": []
    }
  ]
}